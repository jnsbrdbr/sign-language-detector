{
  "nbformat": 4,
  "nbformat_minor": 0,
  "metadata": {
    "colab": {
      "provenance": [],
      "mount_file_id": "1w0rTdDGpcPW6PWR4UFMXAnO-S1OL2OGk",
      "authorship_tag": "ABX9TyNMeEpBwGNKEZl5UCNNiDBl",
      "include_colab_link": true
    },
    "kernelspec": {
      "name": "python3",
      "display_name": "Python 3"
    },
    "language_info": {
      "name": "python"
    }
  },
  "cells": [
    {
      "cell_type": "markdown",
      "metadata": {
        "id": "view-in-github",
        "colab_type": "text"
      },
      "source": [
        "<a href=\"https://colab.research.google.com/github/jnsbrdbr/sign-language-detector/blob/master/Untitled15.ipynb\" target=\"_parent\"><img src=\"https://colab.research.google.com/assets/colab-badge.svg\" alt=\"Open In Colab\"/></a>"
      ]
    },
    {
      "cell_type": "code",
      "execution_count": 1,
      "metadata": {
        "id": "mxiYIqycgbPe"
      },
      "outputs": [],
      "source": [
        "#prepare data\n",
        "import matplotlib.pyplot as plt\n",
        "import seaborn as sns\n",
        "from keras.models import Sequential\n",
        "from keras.layers import Dense, Conv2D , MaxPool2D , Flatten , Dropout , BatchNormalization\n",
        "from keras.preprocessing.image import ImageDataGenerator\n",
        "from sklearn.model_selection import train_test_split\n",
        "from sklearn.metrics import classification_report,confusion_matrix\n",
        "import pandas as pd\n",
        "\n",
        "train_df = pd.read_csv('/content/drive/MyDrive/Flickr8k_text/archive/sign_mnist_train.csv')\n",
        "test_df = pd.read_csv(\"/content/drive/MyDrive/Flickr8k_text/archive/sign_mnist_test.csv\")\n",
        "\n",
        "y_train = train_df['label']\n",
        "y_test = test_df['label']\n",
        "del train_df['label']\n",
        "del test_df['label']\n",
        "\n",
        "from sklearn.preprocessing import LabelBinarizer\n",
        "label_binarizer = LabelBinarizer()\n",
        "y_train = label_binarizer.fit_transform(y_train)\n",
        "y_test = label_binarizer.fit_transform(y_test)\n",
        "\n",
        "x_train = train_df.values\n",
        "x_test = test_df.values\n",
        "\n",
        "x_train = x_train / 255\n",
        "x_test = x_test / 255\n",
        "\n",
        "x_train = x_train.reshape(-1,28,28,1)\n",
        "x_test = x_test.reshape(-1,28,28,1)"
      ]
    },
    {
      "cell_type": "code",
      "source": [
        "from google.colab import drive\n",
        "drive.mount('/content/drive')"
      ],
      "metadata": {
        "colab": {
          "base_uri": "https://localhost:8080/"
        },
        "id": "7MMmTaieaClZ",
        "outputId": "0482b7ad-cf51-4197-bcf5-9c541872cfb1"
      },
      "execution_count": 2,
      "outputs": [
        {
          "output_type": "stream",
          "name": "stdout",
          "text": [
            "Drive already mounted at /content/drive; to attempt to forcibly remount, call drive.mount(\"/content/drive\", force_remount=True).\n"
          ]
        }
      ]
    },
    {
      "cell_type": "code",
      "source": [
        "datagen = ImageDataGenerator(\n",
        "        featurewise_center=False,\n",
        "        samplewise_center=False, \n",
        "        featurewise_std_normalization=False,\n",
        "        samplewise_std_normalization=False,\n",
        "        zca_whitening=False,\n",
        "        rotation_range=10,\n",
        "        zoom_range = 0.1, \n",
        "        width_shift_range=0.1,\n",
        "        height_shift_range=0.1,\n",
        "        horizontal_flip=False,\n",
        "        vertical_flip=False)\n",
        "\n",
        "datagen.fit(x_train)"
      ],
      "metadata": {
        "id": "ktijdYgAgpXc"
      },
      "execution_count": 3,
      "outputs": []
    },
    {
      "cell_type": "code",
      "source": [
        "model = Sequential()\n",
        "model.add(Conv2D(75 , (3,3) , strides = 1 , padding = 'same' , activation = 'relu' , input_shape = (28,28,1)))\n",
        "model.add(BatchNormalization())\n",
        "model.add(MaxPool2D((2,2) , strides = 2 , padding = 'same'))\n",
        "model.add(Conv2D(50 , (3,3) , strides = 1 , padding = 'same' , activation = 'relu'))\n",
        "model.add(Dropout(0.2))\n",
        "model.add(BatchNormalization())\n",
        "model.add(MaxPool2D((2,2) , strides = 2 , padding = 'same'))\n",
        "model.add(Conv2D(25 , (3,3) , strides = 1 , padding = 'same' , activation = 'relu'))\n",
        "model.add(BatchNormalization())\n",
        "model.add(MaxPool2D((2,2) , strides = 2 , padding = 'same'))\n",
        "model.add(Flatten())\n",
        "model.add(Dense(units = 512 , activation = 'relu'))\n",
        "model.add(Dropout(0.3))\n",
        "model.add(Dense(units = 24 , activation = 'softmax'))\n"
      ],
      "metadata": {
        "id": "qlxNFRGHa3HW"
      },
      "execution_count": 4,
      "outputs": []
    },
    {
      "cell_type": "code",
      "source": [
        "model.compile(optimizer = 'adam' , loss = 'categorical_crossentropy' , metrics = ['accuracy'])\n",
        "model.summary()\n",
        "\n",
        "history = model.fit(datagen.flow(x_train,y_train, batch_size = 128) ,epochs = 20 , validation_data = (x_test, y_test))\n",
        "\n",
        "model.save('/content/drive/MyDrive/Flickr8k_text/archive/smnist.h5')"
      ],
      "metadata": {
        "colab": {
          "base_uri": "https://localhost:8080/"
        },
        "id": "SRkLWd-da7k6",
        "outputId": "603e1169-777d-4ab9-9b8b-5ca2364f86a4"
      },
      "execution_count": 5,
      "outputs": [
        {
          "output_type": "stream",
          "name": "stdout",
          "text": [
            "Model: \"sequential\"\n",
            "_________________________________________________________________\n",
            " Layer (type)                Output Shape              Param #   \n",
            "=================================================================\n",
            " conv2d (Conv2D)             (None, 28, 28, 75)        750       \n",
            "                                                                 \n",
            " batch_normalization (BatchN  (None, 28, 28, 75)       300       \n",
            " ormalization)                                                   \n",
            "                                                                 \n",
            " max_pooling2d (MaxPooling2D  (None, 14, 14, 75)       0         \n",
            " )                                                               \n",
            "                                                                 \n",
            " conv2d_1 (Conv2D)           (None, 14, 14, 50)        33800     \n",
            "                                                                 \n",
            " dropout (Dropout)           (None, 14, 14, 50)        0         \n",
            "                                                                 \n",
            " batch_normalization_1 (Batc  (None, 14, 14, 50)       200       \n",
            " hNormalization)                                                 \n",
            "                                                                 \n",
            " max_pooling2d_1 (MaxPooling  (None, 7, 7, 50)         0         \n",
            " 2D)                                                             \n",
            "                                                                 \n",
            " conv2d_2 (Conv2D)           (None, 7, 7, 25)          11275     \n",
            "                                                                 \n",
            " batch_normalization_2 (Batc  (None, 7, 7, 25)         100       \n",
            " hNormalization)                                                 \n",
            "                                                                 \n",
            " max_pooling2d_2 (MaxPooling  (None, 4, 4, 25)         0         \n",
            " 2D)                                                             \n",
            "                                                                 \n",
            " flatten (Flatten)           (None, 400)               0         \n",
            "                                                                 \n",
            " dense (Dense)               (None, 512)               205312    \n",
            "                                                                 \n",
            " dropout_1 (Dropout)         (None, 512)               0         \n",
            "                                                                 \n",
            " dense_1 (Dense)             (None, 24)                12312     \n",
            "                                                                 \n",
            "=================================================================\n",
            "Total params: 264,049\n",
            "Trainable params: 263,749\n",
            "Non-trainable params: 300\n",
            "_________________________________________________________________\n",
            "Epoch 1/20\n",
            "215/215 [==============================] - 140s 629ms/step - loss: 1.0009 - accuracy: 0.6855 - val_loss: 3.6647 - val_accuracy: 0.0634\n",
            "Epoch 2/20\n",
            "215/215 [==============================] - 119s 551ms/step - loss: 0.2056 - accuracy: 0.9326 - val_loss: 1.1976 - val_accuracy: 0.5979\n",
            "Epoch 3/20\n",
            "215/215 [==============================] - 119s 556ms/step - loss: 0.1013 - accuracy: 0.9676 - val_loss: 0.0846 - val_accuracy: 0.9756\n",
            "Epoch 4/20\n",
            "215/215 [==============================] - 125s 582ms/step - loss: 0.0645 - accuracy: 0.9793 - val_loss: 0.0430 - val_accuracy: 0.9870\n",
            "Epoch 5/20\n",
            "215/215 [==============================] - 119s 554ms/step - loss: 0.0460 - accuracy: 0.9851 - val_loss: 0.2128 - val_accuracy: 0.9271\n",
            "Epoch 6/20\n",
            "215/215 [==============================] - 122s 567ms/step - loss: 0.0369 - accuracy: 0.9887 - val_loss: 0.2636 - val_accuracy: 0.9232\n",
            "Epoch 7/20\n",
            "215/215 [==============================] - 120s 560ms/step - loss: 0.0290 - accuracy: 0.9912 - val_loss: 0.0585 - val_accuracy: 0.9838\n",
            "Epoch 8/20\n",
            "215/215 [==============================] - 120s 560ms/step - loss: 0.0291 - accuracy: 0.9909 - val_loss: 0.0147 - val_accuracy: 0.9972\n",
            "Epoch 9/20\n",
            "215/215 [==============================] - 120s 557ms/step - loss: 0.0226 - accuracy: 0.9929 - val_loss: 0.8130 - val_accuracy: 0.8125\n",
            "Epoch 10/20\n",
            "215/215 [==============================] - 121s 564ms/step - loss: 0.0221 - accuracy: 0.9934 - val_loss: 0.3770 - val_accuracy: 0.9013\n",
            "Epoch 11/20\n",
            "215/215 [==============================] - 120s 555ms/step - loss: 0.0235 - accuracy: 0.9921 - val_loss: 0.3257 - val_accuracy: 0.8917\n",
            "Epoch 12/20\n",
            "215/215 [==============================] - 124s 577ms/step - loss: 0.0200 - accuracy: 0.9933 - val_loss: 0.0316 - val_accuracy: 0.9887\n",
            "Epoch 13/20\n",
            "215/215 [==============================] - 124s 578ms/step - loss: 0.0272 - accuracy: 0.9912 - val_loss: 0.0093 - val_accuracy: 0.9968\n",
            "Epoch 14/20\n",
            "215/215 [==============================] - 124s 576ms/step - loss: 0.0186 - accuracy: 0.9942 - val_loss: 0.0668 - val_accuracy: 0.9784\n",
            "Epoch 15/20\n",
            "215/215 [==============================] - 118s 549ms/step - loss: 0.0159 - accuracy: 0.9947 - val_loss: 0.0745 - val_accuracy: 0.9703\n",
            "Epoch 16/20\n",
            "215/215 [==============================] - 119s 552ms/step - loss: 0.0164 - accuracy: 0.9944 - val_loss: 0.3148 - val_accuracy: 0.9117\n",
            "Epoch 17/20\n",
            "215/215 [==============================] - 118s 549ms/step - loss: 0.0142 - accuracy: 0.9958 - val_loss: 0.0872 - val_accuracy: 0.9693\n",
            "Epoch 18/20\n",
            "215/215 [==============================] - 124s 574ms/step - loss: 0.0178 - accuracy: 0.9939 - val_loss: 0.0142 - val_accuracy: 0.9951\n",
            "Epoch 19/20\n",
            "215/215 [==============================] - 123s 573ms/step - loss: 0.0183 - accuracy: 0.9938 - val_loss: 0.0469 - val_accuracy: 0.9847\n",
            "Epoch 20/20\n",
            "215/215 [==============================] - 124s 575ms/step - loss: 0.0178 - accuracy: 0.9940 - val_loss: 0.0074 - val_accuracy: 0.9968\n"
          ]
        }
      ]
    }
  ]
}